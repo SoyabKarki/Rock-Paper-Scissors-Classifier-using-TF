{
  "nbformat": 4,
  "nbformat_minor": 0,
  "metadata": {
    "colab": {
      "provenance": [],
      "gpuType": "T4"
    },
    "kernelspec": {
      "name": "python3",
      "display_name": "Python 3"
    },
    "language_info": {
      "name": "python"
    },
    "accelerator": "GPU"
  },
  "cells": [
    {
      "cell_type": "markdown",
      "source": [
        "### Import Dependencies"
      ],
      "metadata": {
        "id": "4WDJ6vg1Xn41"
      }
    },
    {
      "cell_type": "code",
      "execution_count": null,
      "metadata": {
        "id": "31WGsxjzV-jZ"
      },
      "outputs": [],
      "source": [
        "import tensorflow as tf\n",
        "import tensorflow_datasets as tfds\n",
        "from tensorflow.keras import Sequential\n",
        "from tensorflow.keras.layers import Dense, Flatten, Conv2D, AveragePooling2D, MaxPool2D, Dropout\n",
        "from tensorflow.keras.losses import SparseCategoricalCrossentropy\n",
        "\n",
        "import numpy as np\n",
        "import matplotlib.pyplot as plt"
      ]
    },
    {
      "cell_type": "markdown",
      "source": [
        "### Load Data"
      ],
      "metadata": {
        "id": "BK3XRcyOLmS5"
      }
    },
    {
      "cell_type": "code",
      "source": [
        "builder = tfds.builder('rock_paper_scissors')\n",
        "info = builder.info\n",
        "\n",
        "info"
      ],
      "metadata": {
        "colab": {
          "base_uri": "https://localhost:8080/"
        },
        "id": "AbLyYRxhWLMS",
        "outputId": "9d57f0b1-9554-44a3-d8ca-69bed93ccf46"
      },
      "execution_count": null,
      "outputs": [
        {
          "output_type": "execute_result",
          "data": {
            "text/plain": [
              "tfds.core.DatasetInfo(\n",
              "    name='rock_paper_scissors',\n",
              "    full_name='rock_paper_scissors/3.0.0',\n",
              "    description=\"\"\"\n",
              "    Images of hands playing rock, paper, scissor game.\n",
              "    \"\"\",\n",
              "    homepage='http://laurencemoroney.com/rock-paper-scissors-dataset',\n",
              "    data_dir='/root/tensorflow_datasets/rock_paper_scissors/3.0.0',\n",
              "    file_format=tfrecord,\n",
              "    download_size=219.53 MiB,\n",
              "    dataset_size=219.23 MiB,\n",
              "    features=FeaturesDict({\n",
              "        'image': Image(shape=(300, 300, 3), dtype=uint8),\n",
              "        'label': ClassLabel(shape=(), dtype=int64, num_classes=3),\n",
              "    }),\n",
              "    supervised_keys=('image', 'label'),\n",
              "    disable_shuffling=False,\n",
              "    splits={\n",
              "        'test': <SplitInfo num_examples=372, num_shards=1>,\n",
              "        'train': <SplitInfo num_examples=2520, num_shards=2>,\n",
              "    },\n",
              "    citation=\"\"\"@ONLINE {rps,\n",
              "    author = \"Laurence Moroney\",\n",
              "    title = \"Rock, Paper, Scissors Dataset\",\n",
              "    month = \"feb\",\n",
              "    year = \"2019\",\n",
              "    url = \"http://laurencemoroney.com/rock-paper-scissors-dataset\"\n",
              "    }\"\"\",\n",
              ")"
            ]
          },
          "metadata": {},
          "execution_count": 2
        }
      ]
    },
    {
      "cell_type": "code",
      "source": [
        "all_train = tfds.load(name=\"rock_paper_scissors\", split=\"train\")\n",
        "all_test = tfds.load(name=\"rock_paper_scissors\", split=\"test\")"
      ],
      "metadata": {
        "id": "E0NJOpOKWOMY"
      },
      "execution_count": null,
      "outputs": []
    },
    {
      "cell_type": "code",
      "source": [
        "len(all_train), len(all_test)"
      ],
      "metadata": {
        "colab": {
          "base_uri": "https://localhost:8080/"
        },
        "id": "QgsEAP1TWPWM",
        "outputId": "e9cff983-f50d-4731-a8dc-ba49ea639eeb"
      },
      "execution_count": null,
      "outputs": [
        {
          "output_type": "execute_result",
          "data": {
            "text/plain": [
              "(2520, 372)"
            ]
          },
          "metadata": {},
          "execution_count": 4
        }
      ]
    },
    {
      "cell_type": "markdown",
      "source": [
        "### Data Processing"
      ],
      "metadata": {
        "id": "snwrhAWrLtlm"
      }
    },
    {
      "cell_type": "code",
      "source": [
        "# Convert tfds to np\n",
        "\n",
        "train_images = np.array([item['image'].numpy()[:,:,0] for item in all_train])  # Only take one color channel since color is not required\n",
        "train_labels = np.array([item['label'].numpy() for item in all_train])\n",
        "\n",
        "test_images = np.array([item['image'].numpy()[:,:,0] for item in all_test])  # Only take one color channel since color is not required\n",
        "test_labels = np.array([item['label'].numpy() for item in all_test])"
      ],
      "metadata": {
        "id": "5EGGE8nqWRmW"
      },
      "execution_count": null,
      "outputs": []
    },
    {
      "cell_type": "code",
      "source": [
        "print(train_images.shape)\n",
        "print(test_images.shape)"
      ],
      "metadata": {
        "colab": {
          "base_uri": "https://localhost:8080/"
        },
        "id": "fl4Gf_lhWS7w",
        "outputId": "7368bdd0-26c8-4044-8987-ee069bd9fcc8"
      },
      "execution_count": null,
      "outputs": [
        {
          "output_type": "stream",
          "name": "stdout",
          "text": [
            "(2520, 300, 300)\n",
            "(372, 300, 300)\n"
          ]
        }
      ]
    },
    {
      "cell_type": "code",
      "source": [
        "# Reshape the data so that the one color channel is recognized\n",
        "\n",
        "train_images = train_images.reshape(2520, 300, 300, 1)\n",
        "test_images = test_images.reshape(372, 300, 300, 1)"
      ],
      "metadata": {
        "id": "iOwHCrFuWUPO"
      },
      "execution_count": null,
      "outputs": []
    },
    {
      "cell_type": "code",
      "source": [
        "train_images.dtype"
      ],
      "metadata": {
        "colab": {
          "base_uri": "https://localhost:8080/"
        },
        "id": "lfQh3GfjWVKD",
        "outputId": "5769c488-e3ad-4736-89cc-a10eb6dbe8c8"
      },
      "execution_count": null,
      "outputs": [
        {
          "output_type": "execute_result",
          "data": {
            "text/plain": [
              "dtype('uint8')"
            ]
          },
          "metadata": {},
          "execution_count": 8
        }
      ]
    },
    {
      "cell_type": "code",
      "source": [
        "# Convert the dataset to float so that range can be scaled from 0-255 to 0-1\n",
        "\n",
        "train_images = train_images.astype('float32')\n",
        "test_images = test_images.astype('float32')"
      ],
      "metadata": {
        "id": "WwodaTKVWWO2"
      },
      "execution_count": null,
      "outputs": []
    },
    {
      "cell_type": "code",
      "source": [
        "# Rescale the image dataset\n",
        "\n",
        "train_images /= 255\n",
        "test_images /= 255"
      ],
      "metadata": {
        "id": "17uIogE4WXlb"
      },
      "execution_count": null,
      "outputs": []
    },
    {
      "cell_type": "markdown",
      "source": [
        "\n",
        "### First approach: ANN"
      ],
      "metadata": {
        "id": "CQm0a0VhLxly"
      }
    },
    {
      "cell_type": "code",
      "source": [
        "model = Sequential([\n",
        "    Flatten(),\n",
        "    Dense(512, activation='relu'),\n",
        "    Dense(256, activation='relu'),\n",
        "    Dense(3, activation='softmax')\n",
        "])\n",
        "\n",
        "model.compile(\n",
        "    optimizer='adam',\n",
        "    loss=SparseCategoricalCrossentropy(),\n",
        "    metrics=['accuracy']\n",
        ")"
      ],
      "metadata": {
        "id": "IL0H_a5TWYXD"
      },
      "execution_count": null,
      "outputs": []
    },
    {
      "cell_type": "code",
      "source": [
        "model.fit(train_images, train_labels, epochs=5, batch_size=32)"
      ],
      "metadata": {
        "colab": {
          "base_uri": "https://localhost:8080/"
        },
        "id": "xBv-hzwOWZRO",
        "outputId": "a28fb242-7a3d-4ba9-9dbe-197a65187621"
      },
      "execution_count": null,
      "outputs": [
        {
          "output_type": "stream",
          "name": "stdout",
          "text": [
            "Epoch 1/5\n",
            "79/79 [==============================] - 4s 23ms/step - loss: 19.2124 - accuracy: 0.4254\n",
            "Epoch 2/5\n",
            "79/79 [==============================] - 2s 21ms/step - loss: 1.8144 - accuracy: 0.6393\n",
            "Epoch 3/5\n",
            "79/79 [==============================] - 2s 22ms/step - loss: 2.0567 - accuracy: 0.6611\n",
            "Epoch 4/5\n",
            "79/79 [==============================] - 2s 22ms/step - loss: 0.9032 - accuracy: 0.7806\n",
            "Epoch 5/5\n",
            "79/79 [==============================] - 2s 19ms/step - loss: 0.8522 - accuracy: 0.8036\n"
          ]
        },
        {
          "output_type": "execute_result",
          "data": {
            "text/plain": [
              "<keras.src.callbacks.History at 0x7c1398695f60>"
            ]
          },
          "metadata": {},
          "execution_count": 12
        }
      ]
    },
    {
      "cell_type": "code",
      "source": [
        "model.evaluate(test_images, test_labels)"
      ],
      "metadata": {
        "colab": {
          "base_uri": "https://localhost:8080/"
        },
        "id": "uJMl5IP-Wa0E",
        "outputId": "e858f1ab-e601-49eb-8983-b37ccba8fc5e"
      },
      "execution_count": null,
      "outputs": [
        {
          "output_type": "stream",
          "name": "stdout",
          "text": [
            "12/12 [==============================] - 0s 10ms/step - loss: 1.6374 - accuracy: 0.5995\n"
          ]
        },
        {
          "output_type": "execute_result",
          "data": {
            "text/plain": [
              "[1.6373717784881592, 0.5994623899459839]"
            ]
          },
          "metadata": {},
          "execution_count": 13
        }
      ]
    },
    {
      "cell_type": "code",
      "source": [
        "# Overfitting occured. Use CNN instead"
      ],
      "metadata": {
        "id": "SLCX1y1NWgQ6"
      },
      "execution_count": null,
      "outputs": []
    },
    {
      "cell_type": "markdown",
      "source": [
        "### Second Approach: Simple CNN"
      ],
      "metadata": {
        "id": "BTkvDYw2L1dq"
      }
    },
    {
      "cell_type": "code",
      "source": [
        "model = Sequential([\n",
        "    Conv2D(filters=64, kernel_size=(3,3), activation='relu', input_shape=(300,300,1)),\n",
        "    Conv2D(filters=32, kernel_size=(3,3), activation='relu'),\n",
        "    Flatten(),\n",
        "    Dense(3, activation='softmax')\n",
        "])\n",
        "\n",
        "model.compile(\n",
        "    optimizer='adam',\n",
        "    loss=SparseCategoricalCrossentropy(),\n",
        "    metrics=['accuracy']\n",
        ")"
      ],
      "metadata": {
        "id": "TXXf1g1_Whcb"
      },
      "execution_count": null,
      "outputs": []
    },
    {
      "cell_type": "code",
      "source": [
        "model.fit(train_images, train_labels, epochs=5, batch_size=32)"
      ],
      "metadata": {
        "colab": {
          "base_uri": "https://localhost:8080/"
        },
        "id": "kcsjK4qXWiOP",
        "outputId": "e9ee5b43-0cce-4239-fd44-92bdde880b97"
      },
      "execution_count": null,
      "outputs": [
        {
          "output_type": "stream",
          "name": "stdout",
          "text": [
            "Epoch 1/5\n",
            "79/79 [==============================] - 26s 203ms/step - loss: 3.7192 - accuracy: 0.7024\n",
            "Epoch 2/5\n",
            "79/79 [==============================] - 11s 145ms/step - loss: 0.2716 - accuracy: 0.9524\n",
            "Epoch 3/5\n",
            "79/79 [==============================] - 11s 145ms/step - loss: 0.1063 - accuracy: 0.9857\n",
            "Epoch 4/5\n",
            "79/79 [==============================] - 11s 145ms/step - loss: 0.0296 - accuracy: 0.9968\n",
            "Epoch 5/5\n",
            "79/79 [==============================] - 11s 145ms/step - loss: 0.0085 - accuracy: 1.0000\n"
          ]
        },
        {
          "output_type": "execute_result",
          "data": {
            "text/plain": [
              "<keras.src.callbacks.History at 0x7c13985372e0>"
            ]
          },
          "metadata": {},
          "execution_count": 16
        }
      ]
    },
    {
      "cell_type": "code",
      "source": [
        "model.evaluate(test_images, test_labels)"
      ],
      "metadata": {
        "colab": {
          "base_uri": "https://localhost:8080/"
        },
        "id": "f-KyKKHbWjRg",
        "outputId": "95e479d3-fabe-46b4-c972-530216036c79"
      },
      "execution_count": null,
      "outputs": [
        {
          "output_type": "stream",
          "name": "stdout",
          "text": [
            "12/12 [==============================] - 2s 188ms/step - loss: 1.0935 - accuracy: 0.5457\n"
          ]
        },
        {
          "output_type": "execute_result",
          "data": {
            "text/plain": [
              "[1.0935419797897339, 0.5456989407539368]"
            ]
          },
          "metadata": {},
          "execution_count": 17
        }
      ]
    },
    {
      "cell_type": "code",
      "source": [
        "# Overfitting once again. Use a mix of different hyperparameters in the CNN"
      ],
      "metadata": {
        "id": "49FnimApXA0C"
      },
      "execution_count": null,
      "outputs": []
    },
    {
      "cell_type": "markdown",
      "source": [
        "### Third Approach: Tuned CNN"
      ],
      "metadata": {
        "id": "NSvUtQ6RMAZt"
      }
    },
    {
      "cell_type": "code",
      "source": [
        "model = Sequential([\n",
        "    AveragePooling2D(pool_size=(6,6), strides=3, input_shape=(300,300,1)),\n",
        "    Conv2D(filters=64, kernel_size=(3,3), activation='relu', input_shape=(300,300,1)),\n",
        "    Conv2D(filters=32, kernel_size=(3,3), activation='relu'),\n",
        "    MaxPool2D(pool_size=(2,2), strides=2),\n",
        "    Dropout(rate=0.5),\n",
        "    Flatten(),\n",
        "    Dense(128, activation='relu'),\n",
        "    Dense(3, activation='softmax')\n",
        "])\n",
        "\n",
        "model.compile(\n",
        "    optimizer='adam',\n",
        "    loss=SparseCategoricalCrossentropy(),\n",
        "    metrics=['accuracy']\n",
        ")"
      ],
      "metadata": {
        "id": "TQ-btSS1MLyL"
      },
      "execution_count": null,
      "outputs": []
    },
    {
      "cell_type": "code",
      "source": [
        "model.fit(train_images, train_labels, epochs=5, batch_size=32)"
      ],
      "metadata": {
        "colab": {
          "base_uri": "https://localhost:8080/"
        },
        "id": "2o25d_fnND-P",
        "outputId": "fd392734-cb5e-4430-dd63-595719ca7628"
      },
      "execution_count": null,
      "outputs": [
        {
          "output_type": "stream",
          "name": "stdout",
          "text": [
            "Epoch 1/5\n",
            "79/79 [==============================] - 7s 38ms/step - loss: 0.6505 - accuracy: 0.7516\n",
            "Epoch 2/5\n",
            "79/79 [==============================] - 2s 28ms/step - loss: 0.0719 - accuracy: 0.9837\n",
            "Epoch 3/5\n",
            "79/79 [==============================] - 2s 28ms/step - loss: 0.0149 - accuracy: 0.9980\n",
            "Epoch 4/5\n",
            "79/79 [==============================] - 2s 30ms/step - loss: 0.0063 - accuracy: 0.9992\n",
            "Epoch 5/5\n",
            "79/79 [==============================] - 2s 30ms/step - loss: 0.0074 - accuracy: 0.9984\n"
          ]
        },
        {
          "output_type": "execute_result",
          "data": {
            "text/plain": [
              "<keras.src.callbacks.History at 0x7c13982bd570>"
            ]
          },
          "metadata": {},
          "execution_count": 20
        }
      ]
    },
    {
      "cell_type": "code",
      "source": [
        "model.evaluate(test_images, test_labels)"
      ],
      "metadata": {
        "colab": {
          "base_uri": "https://localhost:8080/"
        },
        "id": "OBd8106PNJ7H",
        "outputId": "3e8e2114-6bc1-4f55-f2fa-37a12e8a9ec9"
      },
      "execution_count": null,
      "outputs": [
        {
          "output_type": "stream",
          "name": "stdout",
          "text": [
            "12/12 [==============================] - 0s 30ms/step - loss: 0.9096 - accuracy: 0.6774\n"
          ]
        },
        {
          "output_type": "execute_result",
          "data": {
            "text/plain": [
              "[0.9096390008926392, 0.6774193644523621]"
            ]
          },
          "metadata": {},
          "execution_count": 21
        }
      ]
    },
    {
      "cell_type": "markdown",
      "source": [
        "### Hyperparameter Tuning"
      ],
      "metadata": {
        "id": "6QNnLX0gOoxq"
      }
    },
    {
      "cell_type": "code",
      "source": [
        "# Use Keras Tuner\n",
        "! pip install -U keras-tuner\n",
        "import keras_tuner"
      ],
      "metadata": {
        "colab": {
          "base_uri": "https://localhost:8080/"
        },
        "id": "cPgNq9SaOqvi",
        "outputId": "2dd5f2e1-4411-4a17-c5d6-831997975b11"
      },
      "execution_count": null,
      "outputs": [
        {
          "output_type": "stream",
          "name": "stdout",
          "text": [
            "Requirement already satisfied: keras-tuner in /usr/local/lib/python3.10/dist-packages (1.4.7)\n",
            "Requirement already satisfied: keras in /usr/local/lib/python3.10/dist-packages (from keras-tuner) (2.15.0)\n",
            "Requirement already satisfied: packaging in /usr/local/lib/python3.10/dist-packages (from keras-tuner) (24.0)\n",
            "Requirement already satisfied: requests in /usr/local/lib/python3.10/dist-packages (from keras-tuner) (2.31.0)\n",
            "Requirement already satisfied: kt-legacy in /usr/local/lib/python3.10/dist-packages (from keras-tuner) (1.0.5)\n",
            "Requirement already satisfied: charset-normalizer<4,>=2 in /usr/local/lib/python3.10/dist-packages (from requests->keras-tuner) (3.3.2)\n",
            "Requirement already satisfied: idna<4,>=2.5 in /usr/local/lib/python3.10/dist-packages (from requests->keras-tuner) (3.7)\n",
            "Requirement already satisfied: urllib3<3,>=1.21.1 in /usr/local/lib/python3.10/dist-packages (from requests->keras-tuner) (2.0.7)\n",
            "Requirement already satisfied: certifi>=2017.4.17 in /usr/local/lib/python3.10/dist-packages (from requests->keras-tuner) (2024.2.2)\n"
          ]
        }
      ]
    },
    {
      "cell_type": "code",
      "source": [
        "from keras_tuner.tuners import RandomSearch\n",
        "\n",
        "def build_model(hp):\n",
        "  model = Sequential()\n",
        "\n",
        "  model.add(AveragePooling2D(pool_size=(6,6), strides=3, input_shape=(300,300,1)))\n",
        "\n",
        "  for i in range(hp.Int(\"Conv2D Layers\", min_value=0, max_value=3)):\n",
        "        model.add(Conv2D(\n",
        "            hp.Choice(f\"layer_{i}_filters\", [16,32,64]),\n",
        "            kernel_size=(3,3),\n",
        "            activation='relu'\n",
        "            )\n",
        "        )\n",
        "\n",
        "  model.add(MaxPool2D(pool_size=(2,2), strides=2))\n",
        "  model.add(Dropout(rate=0.5))\n",
        "  model.add(Flatten())\n",
        "\n",
        "  model.add(Dense(hp.Choice(\n",
        "      \"Dense layer\",\n",
        "      [64, 128, 256, 512, 1024]\n",
        "      ),\n",
        "      activation='relu'))\n",
        "\n",
        "  model.add(Dense(3, activation='softmax'))\n",
        "  model.compile(\n",
        "    optimizer='adam',\n",
        "    loss=SparseCategoricalCrossentropy(),\n",
        "    metrics=['accuracy']\n",
        "  )\n",
        "\n",
        "  return model\n",
        "\n",
        "tuner = RandomSearch(\n",
        "    build_model,\n",
        "    objective='val_loss',\n",
        "    max_trials=10,\n",
        "    directory=\"./\",\n",
        "    project_name=\"new_tuner\")\n",
        "\n",
        "tuner.search(train_images, train_labels, epochs=5, validation_data=(test_images, test_labels), batch_size=32)"
      ],
      "metadata": {
        "colab": {
          "base_uri": "https://localhost:8080/"
        },
        "id": "1MlJdLoxOxt7",
        "outputId": "04bf2774-3300-4c76-c5e3-90e71fd0c7e5"
      },
      "execution_count": null,
      "outputs": [
        {
          "output_type": "stream",
          "name": "stdout",
          "text": [
            "Trial 10 Complete [00h 00m 08s]\n",
            "val_loss: 1.0099250078201294\n",
            "\n",
            "Best val_loss So Far: 0.6540169715881348\n",
            "Total elapsed time: 00h 03m 16s\n"
          ]
        }
      ]
    },
    {
      "cell_type": "code",
      "source": [
        "best_model = tuner.get_best_models()[0]\n",
        "best_model.evaluate(test_images, test_labels)"
      ],
      "metadata": {
        "colab": {
          "base_uri": "https://localhost:8080/"
        },
        "id": "cjw_pcPtR3rK",
        "outputId": "74c04d5d-1c4c-4a44-d4b7-60b24d115596"
      },
      "execution_count": null,
      "outputs": [
        {
          "output_type": "stream",
          "name": "stdout",
          "text": [
            "12/12 [==============================] - 0s 8ms/step - loss: 0.6540 - accuracy: 0.7715\n"
          ]
        },
        {
          "output_type": "execute_result",
          "data": {
            "text/plain": [
              "[0.6540169715881348, 0.7715053558349609]"
            ]
          },
          "metadata": {},
          "execution_count": 30
        }
      ]
    },
    {
      "cell_type": "code",
      "source": [
        "# Check the parameters used in the best model\n",
        "best_model.summary()"
      ],
      "metadata": {
        "colab": {
          "base_uri": "https://localhost:8080/"
        },
        "id": "_tZkSnQ8SoM5",
        "outputId": "763f5575-cc52-4bd9-ba89-47965b5be9ae"
      },
      "execution_count": null,
      "outputs": [
        {
          "output_type": "stream",
          "name": "stdout",
          "text": [
            "Model: \"sequential\"\n",
            "_________________________________________________________________\n",
            " Layer (type)                Output Shape              Param #   \n",
            "=================================================================\n",
            " average_pooling2d (Average  (None, 99, 99, 1)         0         \n",
            " Pooling2D)                                                      \n",
            "                                                                 \n",
            " conv2d (Conv2D)             (None, 97, 97, 16)        160       \n",
            "                                                                 \n",
            " max_pooling2d (MaxPooling2  (None, 48, 48, 16)        0         \n",
            " D)                                                              \n",
            "                                                                 \n",
            " dropout (Dropout)           (None, 48, 48, 16)        0         \n",
            "                                                                 \n",
            " flatten (Flatten)           (None, 36864)             0         \n",
            "                                                                 \n",
            " dense (Dense)               (None, 512)               18874880  \n",
            "                                                                 \n",
            " dense_1 (Dense)             (None, 3)                 1539      \n",
            "                                                                 \n",
            "=================================================================\n",
            "Total params: 18876579 (72.01 MB)\n",
            "Trainable params: 18876579 (72.01 MB)\n",
            "Non-trainable params: 0 (0.00 Byte)\n",
            "_________________________________________________________________\n"
          ]
        }
      ]
    },
    {
      "cell_type": "code",
      "source": [
        "# Check the summary for each hyperparameter chosen\n",
        "tuner.results_summary()"
      ],
      "metadata": {
        "colab": {
          "base_uri": "https://localhost:8080/"
        },
        "id": "83E2I578S3gJ",
        "outputId": "39d96fbc-d051-42fb-ad97-41917e49f2db"
      },
      "execution_count": null,
      "outputs": [
        {
          "output_type": "stream",
          "name": "stdout",
          "text": [
            "Results summary\n",
            "Results in ./new_tuner\n",
            "Showing 10 best trials\n",
            "Objective(name=\"val_loss\", direction=\"min\")\n",
            "\n",
            "Trial 00 summary\n",
            "Hyperparameters:\n",
            "Conv2D Layers: 1\n",
            "Dense layer: 512\n",
            "layer_0_filters: 16\n",
            "Score: 0.6540169715881348\n",
            "\n",
            "Trial 06 summary\n",
            "Hyperparameters:\n",
            "Conv2D Layers: 1\n",
            "Dense layer: 512\n",
            "layer_0_filters: 64\n",
            "layer_1_filters: 32\n",
            "Score: 0.6906559467315674\n",
            "\n",
            "Trial 08 summary\n",
            "Hyperparameters:\n",
            "Conv2D Layers: 1\n",
            "Dense layer: 1024\n",
            "layer_0_filters: 64\n",
            "layer_1_filters: 32\n",
            "Score: 0.7485895752906799\n",
            "\n",
            "Trial 05 summary\n",
            "Hyperparameters:\n",
            "Conv2D Layers: 2\n",
            "Dense layer: 128\n",
            "layer_0_filters: 64\n",
            "layer_1_filters: 32\n",
            "Score: 0.7577353715896606\n",
            "\n",
            "Trial 02 summary\n",
            "Hyperparameters:\n",
            "Conv2D Layers: 2\n",
            "Dense layer: 1024\n",
            "layer_0_filters: 64\n",
            "layer_1_filters: 16\n",
            "Score: 0.9102604985237122\n",
            "\n",
            "Trial 01 summary\n",
            "Hyperparameters:\n",
            "Conv2D Layers: 0\n",
            "Dense layer: 128\n",
            "layer_0_filters: 32\n",
            "Score: 0.9490323662757874\n",
            "\n",
            "Trial 07 summary\n",
            "Hyperparameters:\n",
            "Conv2D Layers: 0\n",
            "Dense layer: 1024\n",
            "layer_0_filters: 16\n",
            "layer_1_filters: 32\n",
            "Score: 0.9512327313423157\n",
            "\n",
            "Trial 09 summary\n",
            "Hyperparameters:\n",
            "Conv2D Layers: 0\n",
            "Dense layer: 128\n",
            "layer_0_filters: 16\n",
            "layer_1_filters: 16\n",
            "Score: 1.0099250078201294\n",
            "\n",
            "Trial 03 summary\n",
            "Hyperparameters:\n",
            "Conv2D Layers: 0\n",
            "Dense layer: 256\n",
            "layer_0_filters: 64\n",
            "layer_1_filters: 64\n",
            "Score: 1.0111782550811768\n",
            "\n",
            "Trial 04 summary\n",
            "Hyperparameters:\n",
            "Conv2D Layers: 0\n",
            "Dense layer: 256\n",
            "layer_0_filters: 32\n",
            "layer_1_filters: 16\n",
            "Score: 1.0546677112579346\n"
          ]
        }
      ]
    },
    {
      "cell_type": "markdown",
      "source": [
        "### Saving Model"
      ],
      "metadata": {
        "id": "MMBJop4EVmi4"
      }
    },
    {
      "cell_type": "code",
      "source": [
        "best_model.save(\"./my_model\")"
      ],
      "metadata": {
        "id": "Z8Ptm0QeTBsp"
      },
      "execution_count": null,
      "outputs": []
    },
    {
      "cell_type": "markdown",
      "source": [
        "### Load Model"
      ],
      "metadata": {
        "id": "13bpaX2qVvnf"
      }
    },
    {
      "cell_type": "code",
      "source": [
        "from keras.models import load_model\n",
        "\n",
        "loaded_model = load_model(\"./my_model\")"
      ],
      "metadata": {
        "id": "tQVV7g2EVtLq"
      },
      "execution_count": null,
      "outputs": []
    },
    {
      "cell_type": "code",
      "source": [
        "loaded_model.evaluate(test_images, test_labels)"
      ],
      "metadata": {
        "colab": {
          "base_uri": "https://localhost:8080/"
        },
        "id": "r5h2pJWEV5tT",
        "outputId": "9d44c56d-6957-4334-a9ee-51b6d1b11c3a"
      },
      "execution_count": null,
      "outputs": [
        {
          "output_type": "stream",
          "name": "stdout",
          "text": [
            "12/12 [==============================] - 0s 8ms/step - loss: 0.6540 - accuracy: 0.7715\n"
          ]
        },
        {
          "output_type": "execute_result",
          "data": {
            "text/plain": [
              "[0.6540169715881348, 0.7715053558349609]"
            ]
          },
          "metadata": {},
          "execution_count": 35
        }
      ]
    }
  ]
}